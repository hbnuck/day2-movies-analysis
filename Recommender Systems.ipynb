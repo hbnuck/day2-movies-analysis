{
 "cells": [
  {
   "cell_type": "code",
   "execution_count": 1,
   "id": "92279436",
   "metadata": {},
   "outputs": [],
   "source": [
    "import pandas as pd\n",
    "df = pd.read_csv(\"movies.csv\")"
   ]
  },
  {
   "cell_type": "code",
   "execution_count": 20,
   "id": "601ffad5",
   "metadata": {},
   "outputs": [
    {
     "name": "stdout",
     "output_type": "stream",
     "text": [
      "                         score     votes        gross\n",
      "name                                                 \n",
      "'71                        7.2   53000.0    3062178.0\n",
      "'Round Midnight            7.4    4700.0    3272593.0\n",
      "'night, Mother             7.6    2100.0     441863.0\n",
      "*batteries not included    6.7   32000.0   65088797.0\n",
      "10 Cloverfield Lane        7.2  300000.0  110216998.0\n"
     ]
    }
   ],
   "source": [
    "df['genre'] = df['genre'].fillna('').str.split('|')\n",
    "df = df[df['score'].notna()]\n",
    "df_exploded = df.explode('genre')\n",
    "genre_dummies = pd.get_dummies(df_exploded['genre'])\n",
    "df_exploded[['votes','gross']] = df_exploded[['votes','gross']].fillna(0)\n",
    "df_features = df_exploded[['name','score','votes','gross']].reset_index(drop=True).join(genre_dummies)\n",
    "df_features = df_features.groupby('name').mean(numeric_only=True)\n",
    "print(df_features.head())\n"
   ]
  },
  {
   "cell_type": "code",
   "execution_count": 21,
   "id": "8810b1a1",
   "metadata": {},
   "outputs": [],
   "source": [
    "from sklearn.metrics.pairwise import cosine_similarity\n",
    "\n",
    "df_features_filled = df_features.fillna(0)\n",
    "sim = cosine_similarity(df_features_filled.values)\n",
    "similaruty_df = pd.DataFrame(sim,index=df_features_filled.index,columns=df_features_filled.index)"
   ]
  },
  {
   "cell_type": "code",
   "execution_count": 22,
   "id": "a703dd19",
   "metadata": {},
   "outputs": [
    {
     "data": {
      "text/plain": [
       "name\n",
       "Possession                            1.0\n",
       "Turistas                              1.0\n",
       "Police Academy 6: City Under Siege    1.0\n",
       "Gettysburg                            1.0\n",
       "Old School                            1.0\n",
       "Name: Inception, dtype: float64"
      ]
     },
     "execution_count": 22,
     "metadata": {},
     "output_type": "execute_result"
    }
   ],
   "source": [
    "movies_names = \"Inception\"\n",
    "similaruty_df[movies_names].sort_values(ascending=False)[1:6]"
   ]
  }
 ],
 "metadata": {
  "kernelspec": {
   "display_name": "base",
   "language": "python",
   "name": "python3"
  },
  "language_info": {
   "codemirror_mode": {
    "name": "ipython",
    "version": 3
   },
   "file_extension": ".py",
   "mimetype": "text/x-python",
   "name": "python",
   "nbconvert_exporter": "python",
   "pygments_lexer": "ipython3",
   "version": "3.12.7"
  }
 },
 "nbformat": 4,
 "nbformat_minor": 5
}
